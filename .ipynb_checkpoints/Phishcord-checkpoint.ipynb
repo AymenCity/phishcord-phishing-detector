{
 "cells": [
  {
   "cell_type": "markdown",
   "metadata": {
    "id": "HnaKOinr3Bhm"
   },
   "source": [
    "# **Phishcord - AI-Powered Phishing Email Detector** <font>\n"
   ]
  },
  {
   "cell_type": "markdown",
   "metadata": {
    "id": "EMyyDYHmgJjO"
   },
   "source": [
    "## References:\n",
    "\n",
    "* https://www.freecodecamp.org/news/data-cleaning-and-preprocessing-with-pandasbdvhj/#heading-what-is-data-cleaning\n",
    "* https://www.geeksforgeeks.org/python-read-csv-using-pandas-read_csv/\n",
    "* https://www.kdnuggets.com/data-cleaning-with-pandas\n",
    "* https://medium.com/@azimkhan8018/email-spam-detection-with-machine-learning-a-comprehensive-guide-b65c6936678b\n",
    "\n"
   ]
  },
  {
   "cell_type": "markdown",
   "metadata": {
    "id": "Avc598JZ2Cw9"
   },
   "source": [
    "## 1. Setup\n",
    "\n",
    "\n",
    "---\n",
    "\n"
   ]
  },
  {
   "cell_type": "code",
   "execution_count": 79,
   "metadata": {},
   "outputs": [
    {
     "name": "stderr",
     "output_type": "stream",
     "text": [
      "[nltk_data] Downloading package stopwords to\n",
      "[nltk_data]     /Users/aymensaid/nltk_data...\n",
      "[nltk_data]   Package stopwords is already up-to-date!\n",
      "[nltk_data] Downloading package punkt to /Users/aymensaid/nltk_data...\n",
      "[nltk_data]   Package punkt is already up-to-date!\n"
     ]
    }
   ],
   "source": [
    "import pandas as pd\n",
    "import matplotlib.pyplot as plt\n",
    "import seaborn as sns\n",
    "# data preprocessing\n",
    "import nltk\n",
    "nltk.download('stopwords')\n",
    "nltk.download('punkt')\n",
    "import string\n",
    "from nltk.corpus import stopwords\n",
    "from nltk.stem import PorterStemmer\n",
    "from nltk.tokenize import sent_tokenize, word_tokenize\n",
    "from nltk.tokenize.punkt import PunktSentenceTokenizer\n",
    "import re\n",
    "from collections import Counter\n",
    "from wordcloud import WordCloud\n",
    "from sklearn.preprocessing import LabelEncoder\n",
    "# Model Building\n",
    "from sklearn.feature_extraction.text import TfidfVectorizer\n",
    "from sklearn.model_selection import train_test_split\n",
    "from sklearn.metrics import accuracy_score,confusion_matrix,precision_score\n",
    "from sklearn.svm import SVC\n",
    "from sklearn.ensemble import RandomForestClassifier\n",
    "from sklearn.naive_bayes import MultinomialNB"
   ]
  },
  {
   "cell_type": "code",
   "execution_count": 80,
   "metadata": {
    "colab": {
     "base_uri": "https://localhost:8080/",
     "height": 424
    },
    "executionInfo": {
     "elapsed": 6278,
     "status": "ok",
     "timestamp": 1739820436188,
     "user": {
      "displayName": "Aymen Said",
      "userId": "16274564924127037435"
     },
     "user_tz": 0
    },
    "id": "ZoBaaRzf6WK8",
    "outputId": "afda03cd-e63d-4a3f-f4a7-88fde2ccbb75"
   },
   "outputs": [
    {
     "data": {
      "text/html": [
       "<div>\n",
       "<style scoped>\n",
       "    .dataframe tbody tr th:only-of-type {\n",
       "        vertical-align: middle;\n",
       "    }\n",
       "\n",
       "    .dataframe tbody tr th {\n",
       "        vertical-align: top;\n",
       "    }\n",
       "\n",
       "    .dataframe thead th {\n",
       "        text-align: right;\n",
       "    }\n",
       "</style>\n",
       "<table border=\"1\" class=\"dataframe\">\n",
       "  <thead>\n",
       "    <tr style=\"text-align: right;\">\n",
       "      <th></th>\n",
       "      <th>text_combined</th>\n",
       "      <th>label</th>\n",
       "    </tr>\n",
       "  </thead>\n",
       "  <tbody>\n",
       "    <tr>\n",
       "      <th>29868</th>\n",
       "      <td>grammar syntax courses college freshman sophom...</td>\n",
       "      <td>0</td>\n",
       "    </tr>\n",
       "    <tr>\n",
       "      <th>31663</th>\n",
       "      <td>6th international symposium social communicati...</td>\n",
       "      <td>0</td>\n",
       "    </tr>\n",
       "    <tr>\n",
       "      <th>17718</th>\n",
       "      <td>today super software sale want pass great deal...</td>\n",
       "      <td>1</td>\n",
       "    </tr>\n",
       "    <tr>\n",
       "      <th>49223</th>\n",
       "      <td>marylou staton maryloubookkeepchinmercurybandc...</td>\n",
       "      <td>1</td>\n",
       "    </tr>\n",
       "    <tr>\n",
       "      <th>70224</th>\n",
       "      <td>shinjin upsize pecker certified approved medic...</td>\n",
       "      <td>1</td>\n",
       "    </tr>\n",
       "  </tbody>\n",
       "</table>\n",
       "</div>"
      ],
      "text/plain": [
       "                                           text_combined  label\n",
       "29868  grammar syntax courses college freshman sophom...      0\n",
       "31663  6th international symposium social communicati...      0\n",
       "17718  today super software sale want pass great deal...      1\n",
       "49223  marylou staton maryloubookkeepchinmercurybandc...      1\n",
       "70224  shinjin upsize pecker certified approved medic...      1"
      ]
     },
     "execution_count": 80,
     "metadata": {},
     "output_type": "execute_result"
    }
   ],
   "source": [
    "# Loads the dataset\n",
    "df = pd.read_csv('/Users/aymensaid/Downloads/dataset/phishing_email.csv')\n",
    "\n",
    "# Displays 5 random emails from dataset\n",
    "df.sample(5) "
   ]
  },
  {
   "cell_type": "markdown",
   "metadata": {
    "id": "2hqKvbSw7h9J"
   },
   "source": [
    "## 2. Initial Exploration And Data Cleaning"
   ]
  },
  {
   "cell_type": "code",
   "execution_count": 81,
   "metadata": {},
   "outputs": [
    {
     "data": {
      "text/plain": [
       "(82486, 2)"
      ]
     },
     "execution_count": 81,
     "metadata": {},
     "output_type": "execute_result"
    }
   ],
   "source": [
    "# Before dropping\n",
    "df.shape"
   ]
  },
  {
   "cell_type": "code",
   "execution_count": 82,
   "metadata": {},
   "outputs": [
    {
     "data": {
      "text/html": [
       "<div>\n",
       "<style scoped>\n",
       "    .dataframe tbody tr th:only-of-type {\n",
       "        vertical-align: middle;\n",
       "    }\n",
       "\n",
       "    .dataframe tbody tr th {\n",
       "        vertical-align: top;\n",
       "    }\n",
       "\n",
       "    .dataframe thead th {\n",
       "        text-align: right;\n",
       "    }\n",
       "</style>\n",
       "<table border=\"1\" class=\"dataframe\">\n",
       "  <thead>\n",
       "    <tr style=\"text-align: right;\">\n",
       "      <th></th>\n",
       "      <th>text_combined</th>\n",
       "      <th>label</th>\n",
       "    </tr>\n",
       "  </thead>\n",
       "  <tbody>\n",
       "    <tr>\n",
       "      <th>0</th>\n",
       "      <td>hpl nom may 25 2001 see attached file hplno 52...</td>\n",
       "      <td>0</td>\n",
       "    </tr>\n",
       "    <tr>\n",
       "      <th>1</th>\n",
       "      <td>nom actual vols 24 th forwarded sabrae zajac h...</td>\n",
       "      <td>0</td>\n",
       "    </tr>\n",
       "    <tr>\n",
       "      <th>2</th>\n",
       "      <td>enron actuals march 30 april 1 201 estimated a...</td>\n",
       "      <td>0</td>\n",
       "    </tr>\n",
       "    <tr>\n",
       "      <th>3</th>\n",
       "      <td>hpl nom may 30 2001 see attached file hplno 53...</td>\n",
       "      <td>0</td>\n",
       "    </tr>\n",
       "    <tr>\n",
       "      <th>4</th>\n",
       "      <td>hpl nom june 1 2001 see attached file hplno 60...</td>\n",
       "      <td>0</td>\n",
       "    </tr>\n",
       "    <tr>\n",
       "      <th>...</th>\n",
       "      <td>...</td>\n",
       "      <td>...</td>\n",
       "    </tr>\n",
       "    <tr>\n",
       "      <th>82481</th>\n",
       "      <td>info advantageapartmentscom infoadvantageapart...</td>\n",
       "      <td>1</td>\n",
       "    </tr>\n",
       "    <tr>\n",
       "      <th>82482</th>\n",
       "      <td>monkeyorg helpdeskmonkeyorg monkeyorg hi josep...</td>\n",
       "      <td>1</td>\n",
       "    </tr>\n",
       "    <tr>\n",
       "      <th>82483</th>\n",
       "      <td>help center infohelpcentercoza_infohelpcenterc...</td>\n",
       "      <td>1</td>\n",
       "    </tr>\n",
       "    <tr>\n",
       "      <th>82484</th>\n",
       "      <td>metamask infosofamekarcom verify metamask wall...</td>\n",
       "      <td>1</td>\n",
       "    </tr>\n",
       "    <tr>\n",
       "      <th>82485</th>\n",
       "      <td>fastway infofastwaycoza_infofastwaycoza_infofa...</td>\n",
       "      <td>1</td>\n",
       "    </tr>\n",
       "  </tbody>\n",
       "</table>\n",
       "<p>82486 rows × 2 columns</p>\n",
       "</div>"
      ],
      "text/plain": [
       "                                           text_combined  label\n",
       "0      hpl nom may 25 2001 see attached file hplno 52...      0\n",
       "1      nom actual vols 24 th forwarded sabrae zajac h...      0\n",
       "2      enron actuals march 30 april 1 201 estimated a...      0\n",
       "3      hpl nom may 30 2001 see attached file hplno 53...      0\n",
       "4      hpl nom june 1 2001 see attached file hplno 60...      0\n",
       "...                                                  ...    ...\n",
       "82481  info advantageapartmentscom infoadvantageapart...      1\n",
       "82482  monkeyorg helpdeskmonkeyorg monkeyorg hi josep...      1\n",
       "82483  help center infohelpcentercoza_infohelpcenterc...      1\n",
       "82484  metamask infosofamekarcom verify metamask wall...      1\n",
       "82485  fastway infofastwaycoza_infofastwaycoza_infofa...      1\n",
       "\n",
       "[82486 rows x 2 columns]"
      ]
     },
     "execution_count": 82,
     "metadata": {},
     "output_type": "execute_result"
    }
   ],
   "source": [
    "df"
   ]
  },
  {
   "cell_type": "code",
   "execution_count": 83,
   "metadata": {},
   "outputs": [
    {
     "data": {
      "text/plain": [
       "text_combined    0\n",
       "label            0\n",
       "dtype: int64"
      ]
     },
     "execution_count": 83,
     "metadata": {},
     "output_type": "execute_result"
    }
   ],
   "source": [
    "# Returns 0 so it's false - meaning there are no missing values\n",
    "df.isnull().sum()"
   ]
  },
  {
   "cell_type": "code",
   "execution_count": 84,
   "metadata": {
    "colab": {
     "base_uri": "https://localhost:8080/"
    },
    "executionInfo": {
     "elapsed": 408,
     "status": "ok",
     "timestamp": 1739820463541,
     "user": {
      "displayName": "Aymen Said",
      "userId": "16274564924127037435"
     },
     "user_tz": 0
    },
    "id": "LKWSfQev62w1",
    "outputId": "30093ea3-ccda-45d9-dd6b-db4adf05eb22"
   },
   "outputs": [
    {
     "name": "stdout",
     "output_type": "stream",
     "text": [
      "Number of duplicate rows: 408\n",
      "Number of duplicate rows (after dropping): 0\n"
     ]
    }
   ],
   "source": [
    "print(\"Number of duplicate rows:\", df.duplicated().sum())\n",
    "df = df.drop_duplicates(keep='first')\n",
    "print(\"Number of duplicate rows (after dropping):\", df.duplicated().sum()) # must result in 0 to show it's successfully dropped "
   ]
  },
  {
   "cell_type": "code",
   "execution_count": 85,
   "metadata": {
    "colab": {
     "base_uri": "https://localhost:8080/"
    },
    "executionInfo": {
     "elapsed": 213,
     "status": "ok",
     "timestamp": 1739820483983,
     "user": {
      "displayName": "Aymen Said",
      "userId": "16274564924127037435"
     },
     "user_tz": 0
    },
    "id": "LYnjuXsWdy2h",
    "outputId": "2e26a9ff-f1e6-47a5-f4a3-42a31f3e283d"
   },
   "outputs": [
    {
     "name": "stdout",
     "output_type": "stream",
     "text": [
      "label\n",
      "1    42845\n",
      "0    39233\n",
      "Name: count, dtype: int64\n"
     ]
    }
   ],
   "source": [
    "# before dropping duplicates:\n",
    "# 1    42891\n",
    "# 0    39595\n",
    "print(df['label'].value_counts())"
   ]
  },
  {
   "cell_type": "code",
   "execution_count": 86,
   "metadata": {},
   "outputs": [
    {
     "data": {
      "text/plain": [
       "(82078, 2)"
      ]
     },
     "execution_count": 86,
     "metadata": {},
     "output_type": "execute_result"
    }
   ],
   "source": [
    "# After dropping\n",
    "df.shape"
   ]
  },
  {
   "cell_type": "markdown",
   "metadata": {},
   "source": [
    "## 3. EDA"
   ]
  },
  {
   "cell_type": "markdown",
   "metadata": {},
   "source": [
    "### 3.1. Distribution of Levels"
   ]
  },
  {
   "cell_type": "markdown",
   "metadata": {},
   "source": [
    "From the graph, most emails in the dataset (52.2%) are phishing. Whereas, regular emails in the dataset takes up 47.8% of the dataset. This is important as it allows me to know if the dataset is balanced to prevent any bias. The dataset is mostly balanced."
   ]
  },
  {
   "cell_type": "code",
   "execution_count": 102,
   "metadata": {},
   "outputs": [
    {
     "data": {
      "image/png": "[encoded data removed]",
      "text/plain": [
       "<Figure size 800x600 with 1 Axes>"
      ]
     },
     "metadata": {},
     "output_type": "display_data"
    }
   ],
   "source": [
    "df['label'].value_counts()\n",
    "\n",
    "# Plotting\n",
    "plt.figure(figsize=(8, 6))\n",
    "plt.pie(df['label'].value_counts(), labels=df['label'].value_counts().index, autopct='%1.1f%%', startangle=140)\n",
    "plt.title('Distribution of Emails')\n",
    "plt.axis('equal') \n",
    "plt.show()"
   ]
  },
  {
   "cell_type": "markdown",
   "metadata": {},
   "source": [
    "### 3.2. Average Characters"
   ]
  },
  {
   "cell_type": "code",
   "execution_count": 103,
   "metadata": {},
   "outputs": [],
   "source": [
    "df['num_character'] = df['text_combined'].apply(len)\n",
    "df['num_word'] = df['text_combined'].apply(word_tokenize).apply(len)\n",
    "df['num_sentence'] = df['text_combined'].apply(sent_tokenize).apply(len)"
   ]
  },
  {
   "cell_type": "code",
   "execution_count": 104,
   "metadata": {},
   "outputs": [
    {
     "name": "stdout",
     "output_type": "stream",
     "text": [
      "Average Length of Phishing Emails: 1060.692519547205\n",
      "Average Length of Regular Emails: 1541.4561466112712\n"
     ]
    },
    {
     "data": {
      "image/png": "[encoded data removed]",
      "text/plain": [
       "<Figure size 640x480 with 1 Axes>"
      ]
     },
     "metadata": {},
     "output_type": "display_data"
    }
   ],
   "source": [
    "avg_length_spam = df[df['label'] == 1]['num_character'].mean()\n",
    "avg_length_ham = df[df['label'] == 0]['num_character'].mean()\n",
    "print(\"Average Length of Phishing Emails:\", avg_length_spam)\n",
    "print(\"Average Length of Regular Emails:\", avg_length_ham)\n",
    "\n",
    "# plotting\n",
    "plt.bar(['Phishing', 'Regular'], [avg_length_spam, avg_length_ham], color=['red', 'green'])\n",
    "plt.title('Average Characters of Emails')\n",
    "plt.xlabel('Email Type')\n",
    "plt.ylabel('Average Length')\n",
    "plt.show()"
   ]
  },
  {
   "cell_type": "markdown",
   "metadata": {},
   "source": [
    "### 3.3. Average Words"
   ]
  },
  {
   "cell_type": "code",
   "execution_count": 105,
   "metadata": {},
   "outputs": [
    {
     "name": "stdout",
     "output_type": "stream",
     "text": [
      "Average Words of Phishing Emails: 121.35023923444976\n",
      "Average Words of Regular Emails: 203.70389722937324\n"
     ]
    },
    {
     "data": {
      "image/png": "[encoded data removed]",
      "text/plain": [
       "<Figure size 640x480 with 1 Axes>"
      ]
     },
     "metadata": {},
     "output_type": "display_data"
    }
   ],
   "source": [
    "avg_word_spam = df[df['label'] == 1]['num_word'].mean()\n",
    "avg_word_ham = df[df['label'] == 0]['num_word'].mean()\n",
    "print(\"Average Words of Phishing Emails:\", avg_word_spam)\n",
    "print(\"Average Words of Regular Emails:\", avg_word_ham)\n",
    "\n",
    "# Plotting the graph\n",
    "plt.bar(['Phishing', 'Regular'], [avg_word_spam, avg_word_ham], color=['Red', 'green'])\n",
    "plt.title('Average Words of Emails')\n",
    "plt.xlabel('Email Type')\n",
    "plt.ylabel('Average Words')\n",
    "plt.show()"
   ]
  },
  {
   "cell_type": "markdown",
   "metadata": {},
   "source": [
    "### 3.4. Average Sentence"
   ]
  },
  {
   "cell_type": "code",
   "execution_count": 106,
   "metadata": {},
   "outputs": [
    {
     "name": "stdout",
     "output_type": "stream",
     "text": [
      "Average Sentence of Phishing Emails: 0.9999766600536819\n",
      "Average Sentence of Regular Emails: 1.0\n"
     ]
    },
    {
     "data": {
      "image/png": "[encoded data removed]",
      "text/plain": [
       "<Figure size 640x480 with 1 Axes>"
      ]
     },
     "metadata": {},
     "output_type": "display_data"
    }
   ],
   "source": [
    "avg_sentence_spam = df[df['label'] == 1]['num_sentence'].mean()\n",
    "avg_sentence_ham = df[df['label'] == 0]['num_sentence'].mean()\n",
    "print(\"Average Sentence of Phishing Emails:\", avg_sentence_spam)\n",
    "print(\"Average Sentence of Regular Emails:\", avg_sentence_ham)\n",
    "\n",
    "# Plotting the graph\n",
    "plt.bar(['Phishing', 'Regular'], [avg_sentence_spam, avg_sentence_ham], color=['Red', 'green'])\n",
    "plt.title('Average Sentence of Emails')\n",
    "plt.xlabel('Email Type')\n",
    "plt.ylabel('Average Sentence')\n",
    "plt.show()"
   ]
  },
  {
   "cell_type": "code",
   "execution_count": 107,
   "metadata": {},
   "outputs": [
    {
     "name": "stdout",
     "output_type": "stream",
     "text": [
      "                                           text_combined  label  Length  \\\n",
      "82442  server admin monkeyorg kapcsolatemushu monkeyo...      1     375   \n",
      "82443  monkeyorgjobeppluslearningcom 亲爱的 jose 您的电子邮件帐...      1     429   \n",
      "82444  monkeyorg administration inforussianlinenru cu...      1     485   \n",
      "82445  help center noreplymagdalamatrimonycom account...      1     312   \n",
      "82446  email administrator mikemdanawallboardcom hi j...      1     279   \n",
      "82447  utf8b77ycugf5ugf56yqa6kgm77ye japannetbanksmip...      1     186   \n",
      "82448  binance supporthaleitsahappyclientcom login ne...      1    1314   \n",
      "82449  email account adminsalescchatslife dear jose w...      1     255   \n",
      "82450  support reliantspraysystemscom supportreliants...      1    1341   \n",
      "82451  verify monkeyorg infobustomshisoacom take note...      1     357   \n",
      "82452  customer service infolotofteescom netflix dear...      1     366   \n",
      "82453  fastway 7041887fastwaycoza_fastwaycoza_fastway...      1     397   \n",
      "82454  netflix 5687746netflixcozaem8487neurodiversenu...      1     386   \n",
      "82455  south african post office 7011870southafricapo...      1     279   \n",
      "82456  ram hand hand courier 7417242netflixcozaem8487...      1     783   \n",
      "82457  email notificationjardimdoseridov2netcombr cop...      1     388   \n",
      "82458  noreply updates56690mailcom monkeyorg webmail ...      1     267   \n",
      "82459  webmail support monkeyorg notificationsemail03...      1     416   \n",
      "82460  wetransfer supporteprintsdinusacid josemonkeyo...      1     653   \n",
      "82461  monkeyorg josemonkeyorg voice message 078 964 ...      1     524   \n",
      "82462  help center supportnomutokyo netflix dear cust...      1     496   \n",
      "82463  noreply noreplyverycouk jose password josemonk...      1     270   \n",
      "82464  onedrive mail notification onedrive1zonasurgic...      1    2794   \n",
      "82465  help center help_center_7360403570em8042wilmsc...      1     724   \n",
      "82466  help center info416111724486edgeinsightsin dea...      1     828   \n",
      "82467  monkeyorg support system supportmonkeyorg monk...      1     453   \n",
      "82468  help center infovccedgecom account hold paymen...      1     724   \n",
      "82469  utf8bvvbtwq4 pkginfojosejournalsnjcom hello in...      1    1552   \n",
      "82470  monkeyorg email admin adminchicagopromoitemsco...      1     331   \n",
      "82471  monkeyorg mail center josesynergynaturalcam do...      1     381   \n",
      "82472  monkeyorg mail center josegenfiakhost domain55...      1     376   \n",
      "82473  monkeyorg mail center josegenfiakhost domain55...      1     375   \n",
      "82474  support monkeyorg mail01iswsendgridiswpanelvrf...      1     424   \n",
      "82475  monkeyorg supportmonkeyorg hi jose josemonkeyo...      1     345   \n",
      "82476  usaawebservices benwestbrooklawfirmcom usaa se...      1    1078   \n",
      "82477  support michaelhardymypostofficecouk monkeyorg...      1     200   \n",
      "82478  netlflx cool390rnatlikadeliycom dear customer ...      1     366   \n",
      "82479  wetransfer no_replywetransfercom test transfer...      1     820   \n",
      "82480  monkeyorg support inboxinboxorg queued message...      1     268   \n",
      "82481  info advantageapartmentscom infoadvantageapart...      1    1735   \n",
      "82482  monkeyorg helpdeskmonkeyorg monkeyorg hi josep...      1     188   \n",
      "82483  help center infohelpcentercoza_infohelpcenterc...      1     948   \n",
      "82484  metamask infosofamekarcom verify metamask wall...      1     376   \n",
      "82485  fastway infofastwaycoza_infofastwaycoza_infofa...      1     819   \n",
      "\n",
      "       num_words  num_sentence  num_character  num_word  \n",
      "82442         51             1            375        51  \n",
      "82443         45             1            429        45  \n",
      "82444         59             1            485        59  \n",
      "82445         43             1            312        43  \n",
      "82446         33             1            279        33  \n",
      "82447         11             1            186        11  \n",
      "82448        172             1           1314       172  \n",
      "82449         36             1            255        36  \n",
      "82450        189             1           1341       189  \n",
      "82451         43             1            357        43  \n",
      "82452         51             1            366        51  \n",
      "82453         50             1            397        50  \n",
      "82454         50             1            386        50  \n",
      "82455         32             1            279        32  \n",
      "82456        118             1            783       118  \n",
      "82457         44             1            388        44  \n",
      "82458         35             1            267        35  \n",
      "82459         49             1            416        49  \n",
      "82460         80             1            653        80  \n",
      "82461         30             1            524        30  \n",
      "82462         69             1            496        69  \n",
      "82463         38             1            270        38  \n",
      "82464         49             1           2794        49  \n",
      "82465         98             1            724        98  \n",
      "82466        107             1            828       107  \n",
      "82467         54             1            453        54  \n",
      "82468        104             1            724       104  \n",
      "82469        203             1           1552       203  \n",
      "82470         40             1            331        40  \n",
      "82471         47             1            381        47  \n",
      "82472         46             1            376        46  \n",
      "82473         47             1            375        47  \n",
      "82474         54             1            424        54  \n",
      "82475         46             1            345        46  \n",
      "82476        148             1           1078       148  \n",
      "82477         23             1            200        23  \n",
      "82478         37             1            366        37  \n",
      "82479         97             1            820        97  \n",
      "82480         35             1            268        35  \n",
      "82481        238             1           1735       238  \n",
      "82482         22             1            188        22  \n",
      "82483        108             1            948       108  \n",
      "82484         50             1            376        50  \n",
      "82485        112             1            819       112  \n"
     ]
    }
   ],
   "source": [
    "print(df.tail(44))"
   ]
  },
  {
   "cell_type": "code",
   "execution_count": null,
   "metadata": {},
   "outputs": [],
   "source": []
  }
 ],
 "metadata": {
  "colab": {
   "authorship_tag": "ABX9TyO55WjMpVghkCjV7w3tfRSb",
   "mount_file_id": "16sTdQoTC59cgeDiIzT3YZ0fXKa9u6YHA",
   "provenance": []
  },
  "kernelspec": {
   "display_name": "Python 3 (ipykernel)",
   "language": "python",
   "name": "python3"
  },
  "language_info": {
   "codemirror_mode": {
    "name": "ipython",
    "version": 3
   },
   "file_extension": ".py",
   "mimetype": "text/x-python",
   "name": "python",
   "nbconvert_exporter": "python",
   "pygments_lexer": "ipython3",
   "version": "3.10.13"
  }
 },
 "nbformat": 4,
 "nbformat_minor": 4
}
